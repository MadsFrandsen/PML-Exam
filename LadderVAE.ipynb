{
  "cells": [
    {
      "cell_type": "code",
      "execution_count": 1,
      "metadata": {
        "id": "NfUnP3Oc13-f"
      },
      "outputs": [],
      "source": [
        "import os\n",
        "import torch\n",
        "import matplotlib.pyplot as plt\n",
        "import numpy as np\n",
        "import torch\n",
        "import torchvision\n",
        "import torch.nn as nn\n",
        "import torch.nn.functional as F\n",
        "import torch.optim as optim\n",
        "from torch.utils.data import Dataset, DataLoader\n",
        "from torchvision import datasets, transforms\n",
        "from torchvision.utils import save_image\n",
        "\n",
        "from tqdm import tqdm\n",
        "from typing import Tuple\n",
        "import math"
      ]
    },
    {
      "cell_type": "code",
      "execution_count": 2,
      "metadata": {
        "colab": {
          "base_uri": "https://localhost:8080/"
        },
        "id": "Q3brXqq_13-j",
        "outputId": "d1e78bfb-ce82-4c9d-eb50-7f0db09637d4"
      },
      "outputs": [
        {
          "name": "stdout",
          "output_type": "stream",
          "text": [
            "device: cuda:0\n"
          ]
        }
      ],
      "source": [
        "gpu = torch.cuda.is_available()\n",
        "device = torch.device(\"cuda:0\" if gpu else \"cpu\")\n",
        "print(\"device:\", device)"
      ]
    },
    {
      "cell_type": "code",
      "execution_count": 3,
      "metadata": {
        "colab": {
          "base_uri": "https://localhost:8080/"
        },
        "id": "rVvXBMCi13-k",
        "outputId": "762f7cd7-7dd7-438e-892e-831019d4f1d3"
      },
      "outputs": [
        {
          "data": {
            "text/plain": [
              "<torch._C.Generator at 0x7c914574e1d0>"
            ]
          },
          "execution_count": 3,
          "metadata": {},
          "output_type": "execute_result"
        }
      ],
      "source": [
        "batch_size = 128\n",
        "torch.manual_seed(50)"
      ]
    },
    {
      "cell_type": "code",
      "execution_count": 4,
      "metadata": {
        "colab": {
          "base_uri": "https://localhost:8080/"
        },
        "id": "EBSCFC3T13-l",
        "outputId": "de9b4a80-40b1-490d-d7fe-e75db1efddb7"
      },
      "outputs": [
        {
          "name": "stdout",
          "output_type": "stream",
          "text": [
            "Downloading http://yann.lecun.com/exdb/mnist/train-images-idx3-ubyte.gz\n",
            "Downloading http://yann.lecun.com/exdb/mnist/train-images-idx3-ubyte.gz to ./data/MNIST/raw/train-images-idx3-ubyte.gz\n"
          ]
        },
        {
          "name": "stderr",
          "output_type": "stream",
          "text": [
            "100%|██████████| 9912422/9912422 [00:00<00:00, 266369247.42it/s]"
          ]
        },
        {
          "name": "stdout",
          "output_type": "stream",
          "text": [
            "Extracting ./data/MNIST/raw/train-images-idx3-ubyte.gz to ./data/MNIST/raw\n"
          ]
        },
        {
          "name": "stderr",
          "output_type": "stream",
          "text": [
            "\n"
          ]
        },
        {
          "name": "stdout",
          "output_type": "stream",
          "text": [
            "\n",
            "Downloading http://yann.lecun.com/exdb/mnist/train-labels-idx1-ubyte.gz\n",
            "Downloading http://yann.lecun.com/exdb/mnist/train-labels-idx1-ubyte.gz to ./data/MNIST/raw/train-labels-idx1-ubyte.gz\n"
          ]
        },
        {
          "name": "stderr",
          "output_type": "stream",
          "text": [
            "100%|██████████| 28881/28881 [00:00<00:00, 28828104.19it/s]\n"
          ]
        },
        {
          "name": "stdout",
          "output_type": "stream",
          "text": [
            "Extracting ./data/MNIST/raw/train-labels-idx1-ubyte.gz to ./data/MNIST/raw\n",
            "\n",
            "Downloading http://yann.lecun.com/exdb/mnist/t10k-images-idx3-ubyte.gz\n",
            "Downloading http://yann.lecun.com/exdb/mnist/t10k-images-idx3-ubyte.gz to ./data/MNIST/raw/t10k-images-idx3-ubyte.gz\n"
          ]
        },
        {
          "name": "stderr",
          "output_type": "stream",
          "text": [
            "100%|██████████| 1648877/1648877 [00:00<00:00, 180453787.26it/s]"
          ]
        },
        {
          "name": "stdout",
          "output_type": "stream",
          "text": [
            "Extracting ./data/MNIST/raw/t10k-images-idx3-ubyte.gz to ./data/MNIST/raw\n",
            "\n",
            "Downloading http://yann.lecun.com/exdb/mnist/t10k-labels-idx1-ubyte.gz\n"
          ]
        },
        {
          "name": "stderr",
          "output_type": "stream",
          "text": [
            "\n"
          ]
        },
        {
          "name": "stdout",
          "output_type": "stream",
          "text": [
            "Downloading http://yann.lecun.com/exdb/mnist/t10k-labels-idx1-ubyte.gz to ./data/MNIST/raw/t10k-labels-idx1-ubyte.gz\n"
          ]
        },
        {
          "name": "stderr",
          "output_type": "stream",
          "text": [
            "100%|██████████| 4542/4542 [00:00<00:00, 11285858.27it/s]"
          ]
        },
        {
          "name": "stdout",
          "output_type": "stream",
          "text": [
            "Extracting ./data/MNIST/raw/t10k-labels-idx1-ubyte.gz to ./data/MNIST/raw\n",
            "\n"
          ]
        },
        {
          "name": "stderr",
          "output_type": "stream",
          "text": [
            "\n"
          ]
        }
      ],
      "source": [
        "root = './data'\n",
        "if not os.path.exists(root):\n",
        "    os.mkdir(root)\n",
        "\n",
        "if not os.path.exists('results'):\n",
        "    os.mkdir('results')\n",
        "\n",
        "kwargs = {'num_workers': 1, 'pin_memory': True} if device.type == \"cuda:0\" else {}\n",
        "trainset = datasets.MNIST(root='./data', train=True,\n",
        "                          download=True, transform=transforms.ToTensor())\n",
        "train_loader = DataLoader(trainset, batch_size=batch_size,\n",
        "                          shuffle=True, **kwargs)\n",
        "\n",
        "testset = datasets.MNIST(root='./data', train=False,\n",
        "                          download=True, transform=transforms.ToTensor())\n",
        "test_loader = DataLoader(testset, batch_size=batch_size,\n",
        "                         shuffle=False, **kwargs)"
      ]
    },
    {
      "cell_type": "code",
      "execution_count": 5,
      "metadata": {
        "colab": {
          "base_uri": "https://localhost:8080/",
          "height": 435
        },
        "id": "IZFskzag13-m",
        "outputId": "97c8ea8a-9e58-4c19-fe1e-854b51c95422"
      },
      "outputs": [
        {
          "data": {
            "image/png": "[encoded data removed]",
            "text/plain": [
              "<Figure size 640x480 with 1 Axes>"
            ]
          },
          "metadata": {},
          "output_type": "display_data"
        }
      ],
      "source": [
        "def imshow(img):\n",
        "    img = img / 2 + 0.5     # unnormalize\n",
        "    npimg = img.numpy()\n",
        "    plt.imshow(np.transpose(npimg, (1, 2, 0)))\n",
        "    plt.show()\n",
        "\n",
        "dataiter = iter(train_loader)\n",
        "images, labels = next(dataiter)\n",
        "\n",
        "imshow(torchvision.utils.make_grid(images))"
      ]
    },
    {
      "cell_type": "code",
      "execution_count": 6,
      "metadata": {
        "id": "FGf-ofAO13-n"
      },
      "outputs": [],
      "source": [
        "# encoder layer. Takes x as input and encodes it to a latent space\n",
        "class LadderEncoder(nn.Module):\n",
        "    def __init__(self, in_dim, out_dim, latent_dim):\n",
        "        super().__init__()\n",
        "        self.in_dim = in_dim\n",
        "        self.out_dim = out_dim\n",
        "        self.z_dim = latent_dim\n",
        "\n",
        "        # hidden layers\n",
        "        self.linear = nn.Linear(self.in_dim, self.out_dim)\n",
        "        self.batchnorm = nn.BatchNorm1d(self.out_dim)\n",
        "\n",
        "        # latent layers\n",
        "        self.mu = nn.Linear(self.out_dim, self.z_dim)\n",
        "        self.var = nn.Linear(self.out_dim, self.z_dim)\n",
        "\n",
        "    def forward(self, x):\n",
        "        # hidden\n",
        "        x = self.linear(x)\n",
        "        x = F.leaky_relu(self.batchnorm(x), 0.1)\n",
        "\n",
        "        # latent\n",
        "        mu = self.mu(x)\n",
        "        var = F.softplus(self.var(x))\n",
        "\n",
        "        return x, mu, var\n",
        "\n",
        "\n",
        "# decoder layer.\n",
        "class LadderDecoder(nn.Module):\n",
        "    def __init__(self, z1_dim, hidden_dim, z2_dim):\n",
        "        super().__init__()\n",
        "\n",
        "        self.linear = nn.Linear(z1_dim, hidden_dim)\n",
        "        self.batchnrom = nn.BatchNorm1d(hidden_dim)\n",
        "\n",
        "        self.mu = nn.Linear(hidden_dim, z2_dim)\n",
        "        self.var = nn.Linear(hidden_dim, z2_dim)\n",
        "\n",
        "    def forward(self, x):\n",
        "        x = self.linear(x)\n",
        "        x = F.leaky_relu(self.batchnrom(x), 0.1)\n",
        "\n",
        "        mu = self.mu(x)\n",
        "        var = F.softplus(self.var(x))\n",
        "\n",
        "        return mu, var\n",
        "\n",
        "\n",
        "# Final decoder layer.\n",
        "class FinalLadderDecoder(nn.Module):\n",
        "    def __init__(self, z_final, hidden_dim, input_dim):\n",
        "        super().__init__()\n",
        "\n",
        "        self.linear = nn.Linear(z_final, hidden_dim)\n",
        "        self.recon = nn.Linear(hidden_dim, input_dim)\n",
        "\n",
        "    def forward(self, x):\n",
        "        x = F.relu(self.linear(x))\n",
        "        return F.sigmoid(self.recon(x))"
      ]
    },
    {
      "cell_type": "code",
      "execution_count": 7,
      "metadata": {
        "id": "qWpqwPk213-o"
      },
      "outputs": [],
      "source": [
        "class LadderVAE(nn.Module):\n",
        "    def __init__(self, input_dim, hidden_dims, latent_dims):\n",
        "        super().__init__()\n",
        "        self.device = device\n",
        "        self.data_dim = input_dim\n",
        "        self.hidden_dims = hidden_dims\n",
        "        self.latent_dims = latent_dims\n",
        "\n",
        "        self.n_layers = len(latent_dims)\n",
        "\n",
        "        neurons = [input_dim, *hidden_dims]\n",
        "\n",
        "        encoder_layers = [LadderEncoder(neurons[i-1], neurons[i], latent_dims[i-1]) for i in range(1, len(neurons))]\n",
        "        decoder_layers = [LadderDecoder(latent_dims[i], hidden_dims[i], latent_dims[i-1]) for i in range(1, len(hidden_dims))][::-1]\n",
        "\n",
        "        self.encoder = nn.ModuleList(encoder_layers)\n",
        "        self.decoder = nn.ModuleList(decoder_layers)\n",
        "        self.recon = FinalLadderDecoder(latent_dims[0], hidden_dims[0], input_dim)\n",
        "\n",
        "    # function to reparameterize. Same as in the standard VAE\n",
        "    def reparameterize(self, mu, var):\n",
        "        eps = torch.randn_like(var)\n",
        "        std = torch.sqrt(var)\n",
        "        return mu + eps * std\n",
        "\n",
        "    # function to merge two gaussians, taken from the paper\n",
        "    def merge_gaussian(self, mu1, var1, mu2, var2):\n",
        "        precision1 = 1 / (var1 + 1e-8)\n",
        "        precision2 = 1 / (var2 + 1e-8)\n",
        "\n",
        "        new_mu = (mu1 * precision1 + mu2 * precision2) / (precision1 + precision2)\n",
        "        new_var = 1 / (precision1 + precision2)\n",
        "        return new_mu, new_var\n",
        "\n",
        "    # function to compute the KL divergence\n",
        "    def compute_kl(self, z, q_params, p_params = None):\n",
        "        (mu, var) = q_params\n",
        "\n",
        "        # compute log of gaussian\n",
        "        qz = torch.sum(- 0.5 * math.log(2 * math.pi) - 0.5 * torch.log(var + 1e-8) - (z - mu)**2 / (2 * var + 1e-8), dim=-1)\n",
        "\n",
        "        if p_params is None:\n",
        "            # log of standard gaussian\n",
        "            pz = torch.sum(-0.5 * math.log(2 * math.pi) - z**2 /2, dim=-1)\n",
        "        else:\n",
        "            (mu, var) = p_params\n",
        "            pz = torch.sum(- 0.5 * math.log(2 * math.pi) - 0.5 * torch.log(var + 1e-8) - (z - mu)**2 / (2 * var + 1e-8), dim=-1)\n",
        "\n",
        "        return qz - pz\n",
        "\n",
        "    def forward(self, x):\n",
        "\n",
        "        mu_var_lst = []\n",
        "        latents = []\n",
        "\n",
        "        # deterministic upward pass over all the encoding layers\n",
        "        for layer in self.encoder:\n",
        "            x, mu, var = layer(x)\n",
        "            mu_var_lst.append((mu, var))\n",
        "\n",
        "        # reparameterize using mu and var from last latent layer\n",
        "        mu, var = mu_var_lst[-1]\n",
        "        z = self.reparameterize(mu, var)\n",
        "        latents.append(z)\n",
        "        mu_var_lst = list(reversed(mu_var_lst))\n",
        "\n",
        "        self.kl_divergence = 0\n",
        "        self.kl_divergence_per_layer = []\n",
        "\n",
        "        # stochastic downward pass recursively computing\n",
        "        # both the approximate posterior and generative distributions\n",
        "        for i, decoder in enumerate([-1, *self.decoder]):\n",
        "\n",
        "            mu_d, var_d = mu_var_lst[i]\n",
        "\n",
        "            if i == 0:\n",
        "                # we are at the top, we have to compute the kl\n",
        "                layer_kl = self.compute_kl(z, (mu_d, var_d))\n",
        "                self.kl_divergence += layer_kl\n",
        "                self.kl_divergence_per_layer.append(torch.sum(layer_kl))\n",
        "\n",
        "            else:\n",
        "                # otherwise we have to pass the z through the decoder\n",
        "                # get the mu and var and merge them with the one we get in the previous step\n",
        "                mu_t, var_t = decoder(z)\n",
        "                merged_mu, merged_var = self.merge_gaussian(mu_d, var_d, mu_t, var_t)\n",
        "\n",
        "                # and now we can sample them\n",
        "                z = self.reparameterize(merged_mu, merged_var)\n",
        "                latents.append(z)\n",
        "\n",
        "                # and compute the kl\n",
        "                layer_kl = self.compute_kl(z, (merged_mu, merged_var), (mu_t, var_t))\n",
        "                self.kl_divergence += layer_kl\n",
        "                self.kl_divergence_per_layer.append(torch.sum(layer_kl))\n",
        "\n",
        "        # final decoder, i.e. reconstruction\n",
        "        recon = self.recon(z)\n",
        "        return recon, latents\n",
        "\n",
        "    # function to sample\n",
        "    def decode(self, z):\n",
        "        for decoder in self.decoder:\n",
        "            mu, var = decoder(z)\n",
        "            z = self.reparameterize(mu, var)\n",
        "\n",
        "        return self.recon(z)\n"
      ]
    },
    {
      "cell_type": "code",
      "execution_count": 8,
      "metadata": {
        "id": "C3rK6fGo13-o"
      },
      "outputs": [],
      "source": [
        "# define lss function. Similar to the loss function for the normal VAE\n",
        "# however we now have a KL divergence for each latent layer, which we sum.\n",
        "def loss(model: LadderVAE, recon_x: torch.Tensor, x: torch.Tensor) -> Tuple[torch.Tensor, torch.Tensor, torch.Tensor]:\n",
        "    assert recon_x.shape[0] == x.shape[0] and recon_x.shape[-1] == x.shape[-1], \"Shape Mismatch between reconstruction and x\"\n",
        "    BCE = F.binary_cross_entropy(recon_x, x.view(-1, 784), reduction=\"sum\")\n",
        "    KLD = torch.sum(model.kl_divergence)\n",
        "    return BCE + KLD, BCE, KLD # = -ELBO"
      ]
    },
    {
      "cell_type": "code",
      "execution_count": 9,
      "metadata": {
        "colab": {
          "base_uri": "https://localhost:8080/"
        },
        "id": "c--zG_Dr13-p",
        "outputId": "2d6b4aec-30b3-4ebf-fa21-5a1af4a22203"
      },
      "outputs": [
        {
          "name": "stdout",
          "output_type": "stream",
          "text": [
            "Number of model parameters:  1157560\n",
            "LadderVAE(\n",
            "  (encoder): ModuleList(\n",
            "    (0): LadderEncoder(\n",
            "      (linear): Linear(in_features=784, out_features=512, bias=True)\n",
            "      (batchnorm): BatchNorm1d(512, eps=1e-05, momentum=0.1, affine=True, track_running_stats=True)\n",
            "      (mu): Linear(in_features=512, out_features=64, bias=True)\n",
            "      (var): Linear(in_features=512, out_features=64, bias=True)\n",
            "    )\n",
            "    (1): LadderEncoder(\n",
            "      (linear): Linear(in_features=512, out_features=256, bias=True)\n",
            "      (batchnorm): BatchNorm1d(256, eps=1e-05, momentum=0.1, affine=True, track_running_stats=True)\n",
            "      (mu): Linear(in_features=256, out_features=32, bias=True)\n",
            "      (var): Linear(in_features=256, out_features=32, bias=True)\n",
            "    )\n",
            "    (2): LadderEncoder(\n",
            "      (linear): Linear(in_features=256, out_features=128, bias=True)\n",
            "      (batchnorm): BatchNorm1d(128, eps=1e-05, momentum=0.1, affine=True, track_running_stats=True)\n",
            "      (mu): Linear(in_features=128, out_features=16, bias=True)\n",
            "      (var): Linear(in_features=128, out_features=16, bias=True)\n",
            "    )\n",
            "    (3): LadderEncoder(\n",
            "      (linear): Linear(in_features=128, out_features=64, bias=True)\n",
            "      (batchnorm): BatchNorm1d(64, eps=1e-05, momentum=0.1, affine=True, track_running_stats=True)\n",
            "      (mu): Linear(in_features=64, out_features=8, bias=True)\n",
            "      (var): Linear(in_features=64, out_features=8, bias=True)\n",
            "    )\n",
            "    (4): LadderEncoder(\n",
            "      (linear): Linear(in_features=64, out_features=32, bias=True)\n",
            "      (batchnorm): BatchNorm1d(32, eps=1e-05, momentum=0.1, affine=True, track_running_stats=True)\n",
            "      (mu): Linear(in_features=32, out_features=4, bias=True)\n",
            "      (var): Linear(in_features=32, out_features=4, bias=True)\n",
            "    )\n",
            "  )\n",
            "  (decoder): ModuleList(\n",
            "    (0): LadderDecoder(\n",
            "      (linear): Linear(in_features=4, out_features=32, bias=True)\n",
            "      (batchnrom): BatchNorm1d(32, eps=1e-05, momentum=0.1, affine=True, track_running_stats=True)\n",
            "      (mu): Linear(in_features=32, out_features=8, bias=True)\n",
            "      (var): Linear(in_features=32, out_features=8, bias=True)\n",
            "    )\n",
            "    (1): LadderDecoder(\n",
            "      (linear): Linear(in_features=8, out_features=64, bias=True)\n",
            "      (batchnrom): BatchNorm1d(64, eps=1e-05, momentum=0.1, affine=True, track_running_stats=True)\n",
            "      (mu): Linear(in_features=64, out_features=16, bias=True)\n",
            "      (var): Linear(in_features=64, out_features=16, bias=True)\n",
            "    )\n",
            "    (2): LadderDecoder(\n",
            "      (linear): Linear(in_features=16, out_features=128, bias=True)\n",
            "      (batchnrom): BatchNorm1d(128, eps=1e-05, momentum=0.1, affine=True, track_running_stats=True)\n",
            "      (mu): Linear(in_features=128, out_features=32, bias=True)\n",
            "      (var): Linear(in_features=128, out_features=32, bias=True)\n",
            "    )\n",
            "    (3): LadderDecoder(\n",
            "      (linear): Linear(in_features=32, out_features=256, bias=True)\n",
            "      (batchnrom): BatchNorm1d(256, eps=1e-05, momentum=0.1, affine=True, track_running_stats=True)\n",
            "      (mu): Linear(in_features=256, out_features=64, bias=True)\n",
            "      (var): Linear(in_features=256, out_features=64, bias=True)\n",
            "    )\n",
            "  )\n",
            "  (recon): FinalLadderDecoder(\n",
            "    (linear): Linear(in_features=64, out_features=512, bias=True)\n",
            "    (recon): Linear(in_features=512, out_features=784, bias=True)\n",
            "  )\n",
            ")\n"
          ]
        }
      ],
      "source": [
        "def count_parameters(model):\n",
        "    return sum(p.numel() for p in model.parameters() if p.requires_grad)\n",
        "\n",
        "# specify inputs for model\n",
        "input_dim = 784\n",
        "hidden_dims = [512, 256, 128, 64, 32]\n",
        "latent_dims = [64, 32, 16, 8, 4]\n",
        "\n",
        "num_epochs = 200\n",
        "lr = 1e-3\n",
        "\n",
        "model = LadderVAE(input_dim, hidden_dims, latent_dims).to(device)\n",
        "print(\"Number of model parameters: \", count_parameters(model))\n",
        "print(model)"
      ]
    },
    {
      "cell_type": "code",
      "execution_count": 10,
      "metadata": {
        "colab": {
          "base_uri": "https://localhost:8080/"
        },
        "id": "-KVjIdeg13-r",
        "outputId": "ccf98a92-9773-4d28-fe67-201233fb2706"
      },
      "outputs": [
        {
          "name": "stderr",
          "output_type": "stream",
          "text": [
            "100%|██████████| 469/469 [00:15<00:00, 31.14it/s]\n"
          ]
        },
        {
          "name": "stdout",
          "output_type": "stream",
          "text": [
            "\tEpoch, 1 complete! \tLoss:  19435.667113214477\n"
          ]
        },
        {
          "name": "stderr",
          "output_type": "stream",
          "text": [
            "100%|██████████| 469/469 [00:13<00:00, 34.24it/s]\n"
          ]
        },
        {
          "name": "stdout",
          "output_type": "stream",
          "text": [
            "\tEpoch, 2 complete! \tLoss:  15167.41481996194\n"
          ]
        },
        {
          "name": "stderr",
          "output_type": "stream",
          "text": [
            "100%|██████████| 469/469 [00:13<00:00, 34.11it/s]\n"
          ]
        },
        {
          "name": "stdout",
          "output_type": "stream",
          "text": [
            "\tEpoch, 3 complete! \tLoss:  14499.86653228499\n"
          ]
        },
        {
          "name": "stderr",
          "output_type": "stream",
          "text": [
            "100%|██████████| 469/469 [00:13<00:00, 34.13it/s]\n"
          ]
        },
        {
          "name": "stdout",
          "output_type": "stream",
          "text": [
            "\tEpoch, 4 complete! \tLoss:  14169.401851295406\n"
          ]
        },
        {
          "name": "stderr",
          "output_type": "stream",
          "text": [
            "100%|██████████| 469/469 [00:13<00:00, 34.15it/s]\n"
          ]
        },
        {
          "name": "stdout",
          "output_type": "stream",
          "text": [
            "\tEpoch, 5 complete! \tLoss:  13942.546701806223\n"
          ]
        },
        {
          "name": "stderr",
          "output_type": "stream",
          "text": [
            "100%|██████████| 469/469 [00:13<00:00, 34.10it/s]\n"
          ]
        },
        {
          "name": "stdout",
          "output_type": "stream",
          "text": [
            "\tEpoch, 6 complete! \tLoss:  13780.397124983307\n"
          ]
        },
        {
          "name": "stderr",
          "output_type": "stream",
          "text": [
            "100%|██████████| 469/469 [00:13<00:00, 34.18it/s]\n"
          ]
        },
        {
          "name": "stdout",
          "output_type": "stream",
          "text": [
            "\tEpoch, 7 complete! \tLoss:  13619.752689720219\n"
          ]
        },
        {
          "name": "stderr",
          "output_type": "stream",
          "text": [
            "100%|██████████| 469/469 [00:13<00:00, 34.01it/s]\n"
          ]
        },
        {
          "name": "stdout",
          "output_type": "stream",
          "text": [
            "\tEpoch, 8 complete! \tLoss:  13507.19111620259\n"
          ]
        },
        {
          "name": "stderr",
          "output_type": "stream",
          "text": [
            "100%|██████████| 469/469 [00:13<00:00, 34.11it/s]\n"
          ]
        },
        {
          "name": "stdout",
          "output_type": "stream",
          "text": [
            "\tEpoch, 9 complete! \tLoss:  13409.831311348156\n"
          ]
        },
        {
          "name": "stderr",
          "output_type": "stream",
          "text": [
            "100%|██████████| 469/469 [00:13<00:00, 34.08it/s]\n"
          ]
        },
        {
          "name": "stdout",
          "output_type": "stream",
          "text": [
            "\tEpoch, 10 complete! \tLoss:  13323.858043703258\n"
          ]
        },
        {
          "name": "stderr",
          "output_type": "stream",
          "text": [
            "100%|██████████| 469/469 [00:13<00:00, 34.07it/s]\n"
          ]
        },
        {
          "name": "stdout",
          "output_type": "stream",
          "text": [
            "\tEpoch, 11 complete! \tLoss:  13256.152996878338\n"
          ]
        },
        {
          "name": "stderr",
          "output_type": "stream",
          "text": [
            "100%|██████████| 469/469 [00:13<00:00, 34.13it/s]\n"
          ]
        },
        {
          "name": "stdout",
          "output_type": "stream",
          "text": [
            "\tEpoch, 12 complete! \tLoss:  13203.335042317709\n"
          ]
        },
        {
          "name": "stderr",
          "output_type": "stream",
          "text": [
            "100%|██████████| 469/469 [00:13<00:00, 33.89it/s]\n"
          ]
        },
        {
          "name": "stdout",
          "output_type": "stream",
          "text": [
            "\tEpoch, 13 complete! \tLoss:  13168.065625834668\n"
          ]
        },
        {
          "name": "stderr",
          "output_type": "stream",
          "text": [
            "100%|██████████| 469/469 [00:13<00:00, 33.83it/s]\n"
          ]
        },
        {
          "name": "stdout",
          "output_type": "stream",
          "text": [
            "\tEpoch, 14 complete! \tLoss:  13118.871060363248\n"
          ]
        },
        {
          "name": "stderr",
          "output_type": "stream",
          "text": [
            "100%|██████████| 469/469 [00:13<00:00, 34.21it/s]\n"
          ]
        },
        {
          "name": "stdout",
          "output_type": "stream",
          "text": [
            "\tEpoch, 15 complete! \tLoss:  13072.329013922275\n"
          ]
        },
        {
          "name": "stderr",
          "output_type": "stream",
          "text": [
            "100%|██████████| 469/469 [00:13<00:00, 34.29it/s]\n"
          ]
        },
        {
          "name": "stdout",
          "output_type": "stream",
          "text": [
            "\tEpoch, 16 complete! \tLoss:  13053.33843107305\n"
          ]
        },
        {
          "name": "stderr",
          "output_type": "stream",
          "text": [
            "100%|██████████| 469/469 [00:13<00:00, 34.05it/s]\n"
          ]
        },
        {
          "name": "stdout",
          "output_type": "stream",
          "text": [
            "\tEpoch, 17 complete! \tLoss:  12993.983225243723\n"
          ]
        },
        {
          "name": "stderr",
          "output_type": "stream",
          "text": [
            "100%|██████████| 469/469 [00:13<00:00, 34.15it/s]\n"
          ]
        },
        {
          "name": "stdout",
          "output_type": "stream",
          "text": [
            "\tEpoch, 18 complete! \tLoss:  12970.547897469285\n"
          ]
        },
        {
          "name": "stderr",
          "output_type": "stream",
          "text": [
            "100%|██████████| 469/469 [00:13<00:00, 33.98it/s]\n"
          ]
        },
        {
          "name": "stdout",
          "output_type": "stream",
          "text": [
            "\tEpoch, 19 complete! \tLoss:  12951.547490568242\n"
          ]
        },
        {
          "name": "stderr",
          "output_type": "stream",
          "text": [
            "100%|██████████| 469/469 [00:13<00:00, 34.26it/s]\n"
          ]
        },
        {
          "name": "stdout",
          "output_type": "stream",
          "text": [
            "\tEpoch, 20 complete! \tLoss:  12920.838456113115\n"
          ]
        },
        {
          "name": "stderr",
          "output_type": "stream",
          "text": [
            "100%|██████████| 469/469 [00:13<00:00, 34.15it/s]\n"
          ]
        },
        {
          "name": "stdout",
          "output_type": "stream",
          "text": [
            "\tEpoch, 21 complete! \tLoss:  12884.614608373397\n"
          ]
        },
        {
          "name": "stderr",
          "output_type": "stream",
          "text": [
            "100%|██████████| 469/469 [00:13<00:00, 34.24it/s]\n"
          ]
        },
        {
          "name": "stdout",
          "output_type": "stream",
          "text": [
            "\tEpoch, 22 complete! \tLoss:  12868.739428919605\n"
          ]
        },
        {
          "name": "stderr",
          "output_type": "stream",
          "text": [
            "100%|██████████| 469/469 [00:13<00:00, 34.29it/s]\n"
          ]
        },
        {
          "name": "stdout",
          "output_type": "stream",
          "text": [
            "\tEpoch, 23 complete! \tLoss:  12845.382244925213\n"
          ]
        },
        {
          "name": "stderr",
          "output_type": "stream",
          "text": [
            "100%|██████████| 469/469 [00:13<00:00, 34.34it/s]\n"
          ]
        },
        {
          "name": "stdout",
          "output_type": "stream",
          "text": [
            "\tEpoch, 24 complete! \tLoss:  12836.740872896635\n"
          ]
        },
        {
          "name": "stderr",
          "output_type": "stream",
          "text": [
            "100%|██████████| 469/469 [00:13<00:00, 34.21it/s]\n"
          ]
        },
        {
          "name": "stdout",
          "output_type": "stream",
          "text": [
            "\tEpoch, 25 complete! \tLoss:  12811.141699636084\n"
          ]
        },
        {
          "name": "stderr",
          "output_type": "stream",
          "text": [
            "100%|██████████| 469/469 [00:13<00:00, 34.22it/s]\n"
          ]
        },
        {
          "name": "stdout",
          "output_type": "stream",
          "text": [
            "\tEpoch, 26 complete! \tLoss:  12782.57420831664\n"
          ]
        },
        {
          "name": "stderr",
          "output_type": "stream",
          "text": [
            "100%|██████████| 469/469 [00:13<00:00, 33.74it/s]\n"
          ]
        },
        {
          "name": "stdout",
          "output_type": "stream",
          "text": [
            "\tEpoch, 27 complete! \tLoss:  12771.672037760416\n"
          ]
        },
        {
          "name": "stderr",
          "output_type": "stream",
          "text": [
            "100%|██████████| 469/469 [00:13<00:00, 34.12it/s]\n"
          ]
        },
        {
          "name": "stdout",
          "output_type": "stream",
          "text": [
            "\tEpoch, 28 complete! \tLoss:  12768.858945145566\n"
          ]
        },
        {
          "name": "stderr",
          "output_type": "stream",
          "text": [
            "100%|██████████| 469/469 [00:13<00:00, 34.15it/s]\n"
          ]
        },
        {
          "name": "stdout",
          "output_type": "stream",
          "text": [
            "\tEpoch, 29 complete! \tLoss:  12732.549767127404\n"
          ]
        },
        {
          "name": "stderr",
          "output_type": "stream",
          "text": [
            "100%|██████████| 469/469 [00:13<00:00, 34.13it/s]\n"
          ]
        },
        {
          "name": "stdout",
          "output_type": "stream",
          "text": [
            "\tEpoch, 30 complete! \tLoss:  12732.775782919338\n"
          ]
        },
        {
          "name": "stderr",
          "output_type": "stream",
          "text": [
            "100%|██████████| 469/469 [00:13<00:00, 33.99it/s]\n"
          ]
        },
        {
          "name": "stdout",
          "output_type": "stream",
          "text": [
            "\tEpoch, 31 complete! \tLoss:  12711.07675405649\n"
          ]
        },
        {
          "name": "stderr",
          "output_type": "stream",
          "text": [
            "100%|██████████| 469/469 [00:13<00:00, 33.91it/s]\n"
          ]
        },
        {
          "name": "stdout",
          "output_type": "stream",
          "text": [
            "\tEpoch, 32 complete! \tLoss:  12692.495551215277\n"
          ]
        },
        {
          "name": "stderr",
          "output_type": "stream",
          "text": [
            "100%|██████████| 469/469 [00:13<00:00, 33.89it/s]\n"
          ]
        },
        {
          "name": "stdout",
          "output_type": "stream",
          "text": [
            "\tEpoch, 33 complete! \tLoss:  12697.938292935363\n"
          ]
        },
        {
          "name": "stderr",
          "output_type": "stream",
          "text": [
            "100%|██████████| 469/469 [00:13<00:00, 33.99it/s]\n"
          ]
        },
        {
          "name": "stdout",
          "output_type": "stream",
          "text": [
            "\tEpoch, 34 complete! \tLoss:  12672.723563952324\n"
          ]
        },
        {
          "name": "stderr",
          "output_type": "stream",
          "text": [
            "100%|██████████| 469/469 [00:13<00:00, 34.14it/s]\n"
          ]
        },
        {
          "name": "stdout",
          "output_type": "stream",
          "text": [
            "\tEpoch, 35 complete! \tLoss:  12655.334188868857\n"
          ]
        },
        {
          "name": "stderr",
          "output_type": "stream",
          "text": [
            "100%|██████████| 469/469 [00:13<00:00, 34.10it/s]\n"
          ]
        },
        {
          "name": "stdout",
          "output_type": "stream",
          "text": [
            "\tEpoch, 36 complete! \tLoss:  12654.8416925414\n"
          ]
        },
        {
          "name": "stderr",
          "output_type": "stream",
          "text": [
            "100%|██████████| 469/469 [00:13<00:00, 33.80it/s]\n"
          ]
        },
        {
          "name": "stdout",
          "output_type": "stream",
          "text": [
            "\tEpoch, 37 complete! \tLoss:  12634.012263371395\n"
          ]
        },
        {
          "name": "stderr",
          "output_type": "stream",
          "text": [
            "100%|██████████| 469/469 [00:13<00:00, 34.13it/s]\n"
          ]
        },
        {
          "name": "stdout",
          "output_type": "stream",
          "text": [
            "\tEpoch, 38 complete! \tLoss:  12629.747087005877\n"
          ]
        },
        {
          "name": "stderr",
          "output_type": "stream",
          "text": [
            "100%|██████████| 469/469 [00:13<00:00, 34.15it/s]\n"
          ]
        },
        {
          "name": "stdout",
          "output_type": "stream",
          "text": [
            "\tEpoch, 39 complete! \tLoss:  12616.558155548879\n"
          ]
        },
        {
          "name": "stderr",
          "output_type": "stream",
          "text": [
            "100%|██████████| 469/469 [00:13<00:00, 34.02it/s]\n"
          ]
        },
        {
          "name": "stdout",
          "output_type": "stream",
          "text": [
            "\tEpoch, 40 complete! \tLoss:  12591.840586605234\n"
          ]
        },
        {
          "name": "stderr",
          "output_type": "stream",
          "text": [
            "100%|██████████| 469/469 [00:13<00:00, 34.08it/s]\n"
          ]
        },
        {
          "name": "stdout",
          "output_type": "stream",
          "text": [
            "\tEpoch, 41 complete! \tLoss:  12600.33044120593\n"
          ]
        },
        {
          "name": "stderr",
          "output_type": "stream",
          "text": [
            "100%|██████████| 469/469 [00:13<00:00, 33.92it/s]\n"
          ]
        },
        {
          "name": "stdout",
          "output_type": "stream",
          "text": [
            "\tEpoch, 42 complete! \tLoss:  12577.370463575053\n"
          ]
        },
        {
          "name": "stderr",
          "output_type": "stream",
          "text": [
            "100%|██████████| 469/469 [00:13<00:00, 34.14it/s]\n"
          ]
        },
        {
          "name": "stdout",
          "output_type": "stream",
          "text": [
            "\tEpoch, 43 complete! \tLoss:  12583.454053569043\n"
          ]
        },
        {
          "name": "stderr",
          "output_type": "stream",
          "text": [
            "100%|██████████| 469/469 [00:13<00:00, 34.21it/s]\n"
          ]
        },
        {
          "name": "stdout",
          "output_type": "stream",
          "text": [
            "\tEpoch, 44 complete! \tLoss:  12559.32757411859\n"
          ]
        },
        {
          "name": "stderr",
          "output_type": "stream",
          "text": [
            "100%|██████████| 469/469 [00:13<00:00, 34.18it/s]\n"
          ]
        },
        {
          "name": "stdout",
          "output_type": "stream",
          "text": [
            "\tEpoch, 45 complete! \tLoss:  12547.943513788729\n"
          ]
        },
        {
          "name": "stderr",
          "output_type": "stream",
          "text": [
            "100%|██████████| 469/469 [00:13<00:00, 34.23it/s]\n"
          ]
        },
        {
          "name": "stdout",
          "output_type": "stream",
          "text": [
            "\tEpoch, 46 complete! \tLoss:  12548.190371260684\n"
          ]
        },
        {
          "name": "stderr",
          "output_type": "stream",
          "text": [
            "100%|██████████| 469/469 [00:13<00:00, 34.17it/s]\n"
          ]
        },
        {
          "name": "stdout",
          "output_type": "stream",
          "text": [
            "\tEpoch, 47 complete! \tLoss:  12539.534770215678\n"
          ]
        },
        {
          "name": "stderr",
          "output_type": "stream",
          "text": [
            "100%|██████████| 469/469 [00:13<00:00, 33.90it/s]\n"
          ]
        },
        {
          "name": "stdout",
          "output_type": "stream",
          "text": [
            "\tEpoch, 48 complete! \tLoss:  12522.992450420674\n"
          ]
        },
        {
          "name": "stderr",
          "output_type": "stream",
          "text": [
            "100%|██████████| 469/469 [00:13<00:00, 33.82it/s]\n"
          ]
        },
        {
          "name": "stdout",
          "output_type": "stream",
          "text": [
            "\tEpoch, 49 complete! \tLoss:  12520.37431348491\n"
          ]
        },
        {
          "name": "stderr",
          "output_type": "stream",
          "text": [
            "100%|██████████| 469/469 [00:13<00:00, 33.99it/s]\n"
          ]
        },
        {
          "name": "stdout",
          "output_type": "stream",
          "text": [
            "\tEpoch, 50 complete! \tLoss:  12520.87900015024\n"
          ]
        },
        {
          "name": "stderr",
          "output_type": "stream",
          "text": [
            "100%|██████████| 469/469 [00:13<00:00, 34.13it/s]\n"
          ]
        },
        {
          "name": "stdout",
          "output_type": "stream",
          "text": [
            "\tEpoch, 51 complete! \tLoss:  12506.369365985576\n"
          ]
        },
        {
          "name": "stderr",
          "output_type": "stream",
          "text": [
            "100%|██████████| 469/469 [00:13<00:00, 33.91it/s]\n"
          ]
        },
        {
          "name": "stdout",
          "output_type": "stream",
          "text": [
            "\tEpoch, 52 complete! \tLoss:  12505.33391134148\n"
          ]
        },
        {
          "name": "stderr",
          "output_type": "stream",
          "text": [
            "100%|██████████| 469/469 [00:13<00:00, 33.82it/s]\n"
          ]
        },
        {
          "name": "stdout",
          "output_type": "stream",
          "text": [
            "\tEpoch, 53 complete! \tLoss:  12499.786646133814\n"
          ]
        },
        {
          "name": "stderr",
          "output_type": "stream",
          "text": [
            "100%|██████████| 469/469 [00:13<00:00, 34.12it/s]\n"
          ]
        },
        {
          "name": "stdout",
          "output_type": "stream",
          "text": [
            "\tEpoch, 54 complete! \tLoss:  12484.032220302484\n"
          ]
        },
        {
          "name": "stderr",
          "output_type": "stream",
          "text": [
            "100%|██████████| 469/469 [00:13<00:00, 34.14it/s]\n"
          ]
        },
        {
          "name": "stdout",
          "output_type": "stream",
          "text": [
            "\tEpoch, 55 complete! \tLoss:  12477.533445178953\n"
          ]
        },
        {
          "name": "stderr",
          "output_type": "stream",
          "text": [
            "100%|██████████| 469/469 [00:13<00:00, 34.19it/s]\n"
          ]
        },
        {
          "name": "stdout",
          "output_type": "stream",
          "text": [
            "\tEpoch, 56 complete! \tLoss:  12468.9461325621\n"
          ]
        },
        {
          "name": "stderr",
          "output_type": "stream",
          "text": [
            "100%|██████████| 469/469 [00:13<00:00, 34.08it/s]\n"
          ]
        },
        {
          "name": "stdout",
          "output_type": "stream",
          "text": [
            "\tEpoch, 57 complete! \tLoss:  12466.937268379406\n"
          ]
        },
        {
          "name": "stderr",
          "output_type": "stream",
          "text": [
            "100%|██████████| 469/469 [00:13<00:00, 34.14it/s]\n"
          ]
        },
        {
          "name": "stdout",
          "output_type": "stream",
          "text": [
            "\tEpoch, 58 complete! \tLoss:  12462.088084685496\n"
          ]
        },
        {
          "name": "stderr",
          "output_type": "stream",
          "text": [
            "100%|██████████| 469/469 [00:13<00:00, 34.11it/s]\n"
          ]
        },
        {
          "name": "stdout",
          "output_type": "stream",
          "text": [
            "\tEpoch, 59 complete! \tLoss:  12453.678802751068\n"
          ]
        },
        {
          "name": "stderr",
          "output_type": "stream",
          "text": [
            "100%|██████████| 469/469 [00:13<00:00, 34.22it/s]\n"
          ]
        },
        {
          "name": "stdout",
          "output_type": "stream",
          "text": [
            "\tEpoch, 60 complete! \tLoss:  12448.291854467147\n"
          ]
        },
        {
          "name": "stderr",
          "output_type": "stream",
          "text": [
            "100%|██████████| 469/469 [00:13<00:00, 34.04it/s]\n"
          ]
        },
        {
          "name": "stdout",
          "output_type": "stream",
          "text": [
            "\tEpoch, 61 complete! \tLoss:  12442.800752036592\n"
          ]
        },
        {
          "name": "stderr",
          "output_type": "stream",
          "text": [
            "100%|██████████| 469/469 [00:13<00:00, 34.32it/s]\n"
          ]
        },
        {
          "name": "stdout",
          "output_type": "stream",
          "text": [
            "\tEpoch, 62 complete! \tLoss:  12431.456453241854\n"
          ]
        },
        {
          "name": "stderr",
          "output_type": "stream",
          "text": [
            "100%|██████████| 469/469 [00:13<00:00, 34.11it/s]\n"
          ]
        },
        {
          "name": "stdout",
          "output_type": "stream",
          "text": [
            "\tEpoch, 63 complete! \tLoss:  12432.29647018563\n"
          ]
        },
        {
          "name": "stderr",
          "output_type": "stream",
          "text": [
            "100%|██████████| 469/469 [00:13<00:00, 33.97it/s]\n"
          ]
        },
        {
          "name": "stdout",
          "output_type": "stream",
          "text": [
            "\tEpoch, 64 complete! \tLoss:  12429.302763588408\n"
          ]
        },
        {
          "name": "stderr",
          "output_type": "stream",
          "text": [
            "100%|██████████| 469/469 [00:13<00:00, 33.72it/s]\n"
          ]
        },
        {
          "name": "stdout",
          "output_type": "stream",
          "text": [
            "\tEpoch, 65 complete! \tLoss:  12421.066109942574\n"
          ]
        },
        {
          "name": "stderr",
          "output_type": "stream",
          "text": [
            "100%|██████████| 469/469 [00:13<00:00, 34.05it/s]\n"
          ]
        },
        {
          "name": "stdout",
          "output_type": "stream",
          "text": [
            "\tEpoch, 66 complete! \tLoss:  12416.467694143963\n"
          ]
        },
        {
          "name": "stderr",
          "output_type": "stream",
          "text": [
            "100%|██████████| 469/469 [00:13<00:00, 34.23it/s]\n"
          ]
        },
        {
          "name": "stdout",
          "output_type": "stream",
          "text": [
            "\tEpoch, 67 complete! \tLoss:  12394.58939720219\n"
          ]
        },
        {
          "name": "stderr",
          "output_type": "stream",
          "text": [
            "100%|██████████| 469/469 [00:13<00:00, 34.08it/s]\n"
          ]
        },
        {
          "name": "stdout",
          "output_type": "stream",
          "text": [
            "\tEpoch, 68 complete! \tLoss:  12401.069863865518\n"
          ]
        },
        {
          "name": "stderr",
          "output_type": "stream",
          "text": [
            "100%|██████████| 469/469 [00:13<00:00, 34.07it/s]\n"
          ]
        },
        {
          "name": "stdout",
          "output_type": "stream",
          "text": [
            "\tEpoch, 69 complete! \tLoss:  12392.649374415732\n"
          ]
        },
        {
          "name": "stderr",
          "output_type": "stream",
          "text": [
            "100%|██████████| 469/469 [00:13<00:00, 34.00it/s]\n"
          ]
        },
        {
          "name": "stdout",
          "output_type": "stream",
          "text": [
            "\tEpoch, 70 complete! \tLoss:  12406.800493289264\n"
          ]
        },
        {
          "name": "stderr",
          "output_type": "stream",
          "text": [
            "100%|██████████| 469/469 [00:13<00:00, 34.22it/s]\n"
          ]
        },
        {
          "name": "stdout",
          "output_type": "stream",
          "text": [
            "\tEpoch, 71 complete! \tLoss:  12387.065600794605\n"
          ]
        },
        {
          "name": "stderr",
          "output_type": "stream",
          "text": [
            "100%|██████████| 469/469 [00:13<00:00, 34.00it/s]\n"
          ]
        },
        {
          "name": "stdout",
          "output_type": "stream",
          "text": [
            "\tEpoch, 72 complete! \tLoss:  12373.923738398104\n"
          ]
        },
        {
          "name": "stderr",
          "output_type": "stream",
          "text": [
            "100%|██████████| 469/469 [00:13<00:00, 34.06it/s]\n"
          ]
        },
        {
          "name": "stdout",
          "output_type": "stream",
          "text": [
            "\tEpoch, 73 complete! \tLoss:  12368.300848023504\n"
          ]
        },
        {
          "name": "stderr",
          "output_type": "stream",
          "text": [
            "100%|██████████| 469/469 [00:13<00:00, 34.01it/s]\n"
          ]
        },
        {
          "name": "stdout",
          "output_type": "stream",
          "text": [
            "\tEpoch, 74 complete! \tLoss:  12371.079074435764\n"
          ]
        },
        {
          "name": "stderr",
          "output_type": "stream",
          "text": [
            "100%|██████████| 469/469 [00:13<00:00, 33.92it/s]\n"
          ]
        },
        {
          "name": "stdout",
          "output_type": "stream",
          "text": [
            "\tEpoch, 75 complete! \tLoss:  12369.350963625133\n"
          ]
        },
        {
          "name": "stderr",
          "output_type": "stream",
          "text": [
            "100%|██████████| 469/469 [00:13<00:00, 34.14it/s]\n"
          ]
        },
        {
          "name": "stdout",
          "output_type": "stream",
          "text": [
            "\tEpoch, 76 complete! \tLoss:  12363.465561565172\n"
          ]
        },
        {
          "name": "stderr",
          "output_type": "stream",
          "text": [
            "100%|██████████| 469/469 [00:13<00:00, 34.14it/s]\n"
          ]
        },
        {
          "name": "stdout",
          "output_type": "stream",
          "text": [
            "\tEpoch, 77 complete! \tLoss:  12348.280223357371\n"
          ]
        },
        {
          "name": "stderr",
          "output_type": "stream",
          "text": [
            "100%|██████████| 469/469 [00:13<00:00, 34.18it/s]\n"
          ]
        },
        {
          "name": "stdout",
          "output_type": "stream",
          "text": [
            "\tEpoch, 78 complete! \tLoss:  12357.681886852297\n"
          ]
        },
        {
          "name": "stderr",
          "output_type": "stream",
          "text": [
            "100%|██████████| 469/469 [00:13<00:00, 34.07it/s]\n"
          ]
        },
        {
          "name": "stdout",
          "output_type": "stream",
          "text": [
            "\tEpoch, 79 complete! \tLoss:  12344.164563301281\n"
          ]
        },
        {
          "name": "stderr",
          "output_type": "stream",
          "text": [
            "100%|██████████| 469/469 [00:13<00:00, 34.14it/s]\n"
          ]
        },
        {
          "name": "stdout",
          "output_type": "stream",
          "text": [
            "\tEpoch, 80 complete! \tLoss:  12342.877328725961\n"
          ]
        },
        {
          "name": "stderr",
          "output_type": "stream",
          "text": [
            "100%|██████████| 469/469 [00:13<00:00, 34.17it/s]\n"
          ]
        },
        {
          "name": "stdout",
          "output_type": "stream",
          "text": [
            "\tEpoch, 81 complete! \tLoss:  12346.045174362313\n"
          ]
        },
        {
          "name": "stderr",
          "output_type": "stream",
          "text": [
            "100%|██████████| 469/469 [00:13<00:00, 34.13it/s]\n"
          ]
        },
        {
          "name": "stdout",
          "output_type": "stream",
          "text": [
            "\tEpoch, 82 complete! \tLoss:  12346.006860977564\n"
          ]
        },
        {
          "name": "stderr",
          "output_type": "stream",
          "text": [
            "100%|██████████| 469/469 [00:13<00:00, 34.26it/s]\n"
          ]
        },
        {
          "name": "stdout",
          "output_type": "stream",
          "text": [
            "\tEpoch, 83 complete! \tLoss:  12339.29727981437\n"
          ]
        },
        {
          "name": "stderr",
          "output_type": "stream",
          "text": [
            "100%|██████████| 469/469 [00:13<00:00, 34.10it/s]\n"
          ]
        },
        {
          "name": "stdout",
          "output_type": "stream",
          "text": [
            "\tEpoch, 84 complete! \tLoss:  12327.41217197516\n"
          ]
        },
        {
          "name": "stderr",
          "output_type": "stream",
          "text": [
            "100%|██████████| 469/469 [00:13<00:00, 34.27it/s]\n"
          ]
        },
        {
          "name": "stdout",
          "output_type": "stream",
          "text": [
            "\tEpoch, 85 complete! \tLoss:  12327.044237446582\n"
          ]
        },
        {
          "name": "stderr",
          "output_type": "stream",
          "text": [
            "100%|██████████| 469/469 [00:13<00:00, 34.21it/s]\n"
          ]
        },
        {
          "name": "stdout",
          "output_type": "stream",
          "text": [
            "\tEpoch, 86 complete! \tLoss:  12318.078521467682\n"
          ]
        },
        {
          "name": "stderr",
          "output_type": "stream",
          "text": [
            "100%|██████████| 469/469 [00:13<00:00, 34.33it/s]\n"
          ]
        },
        {
          "name": "stdout",
          "output_type": "stream",
          "text": [
            "\tEpoch, 87 complete! \tLoss:  12317.453504774305\n"
          ]
        },
        {
          "name": "stderr",
          "output_type": "stream",
          "text": [
            "100%|██████████| 469/469 [00:13<00:00, 34.18it/s]\n"
          ]
        },
        {
          "name": "stdout",
          "output_type": "stream",
          "text": [
            "\tEpoch, 88 complete! \tLoss:  12311.793605184963\n"
          ]
        },
        {
          "name": "stderr",
          "output_type": "stream",
          "text": [
            "100%|██████████| 469/469 [00:13<00:00, 34.08it/s]\n"
          ]
        },
        {
          "name": "stdout",
          "output_type": "stream",
          "text": [
            "\tEpoch, 89 complete! \tLoss:  12305.302354600695\n"
          ]
        },
        {
          "name": "stderr",
          "output_type": "stream",
          "text": [
            "100%|██████████| 469/469 [00:13<00:00, 34.13it/s]\n"
          ]
        },
        {
          "name": "stdout",
          "output_type": "stream",
          "text": [
            "\tEpoch, 90 complete! \tLoss:  12302.944870125535\n"
          ]
        },
        {
          "name": "stderr",
          "output_type": "stream",
          "text": [
            "100%|██████████| 469/469 [00:13<00:00, 34.14it/s]\n"
          ]
        },
        {
          "name": "stdout",
          "output_type": "stream",
          "text": [
            "\tEpoch, 91 complete! \tLoss:  12303.659394614717\n"
          ]
        },
        {
          "name": "stderr",
          "output_type": "stream",
          "text": [
            "100%|██████████| 469/469 [00:13<00:00, 34.13it/s]\n"
          ]
        },
        {
          "name": "stdout",
          "output_type": "stream",
          "text": [
            "\tEpoch, 92 complete! \tLoss:  12305.941070295807\n"
          ]
        },
        {
          "name": "stderr",
          "output_type": "stream",
          "text": [
            "100%|██████████| 469/469 [00:13<00:00, 34.19it/s]\n"
          ]
        },
        {
          "name": "stdout",
          "output_type": "stream",
          "text": [
            "\tEpoch, 93 complete! \tLoss:  12284.800207415197\n"
          ]
        },
        {
          "name": "stderr",
          "output_type": "stream",
          "text": [
            "100%|██████████| 469/469 [00:13<00:00, 34.02it/s]\n"
          ]
        },
        {
          "name": "stdout",
          "output_type": "stream",
          "text": [
            "\tEpoch, 94 complete! \tLoss:  12289.593704093215\n"
          ]
        },
        {
          "name": "stderr",
          "output_type": "stream",
          "text": [
            "100%|██████████| 469/469 [00:13<00:00, 34.08it/s]\n"
          ]
        },
        {
          "name": "stdout",
          "output_type": "stream",
          "text": [
            "\tEpoch, 95 complete! \tLoss:  12297.039959768963\n"
          ]
        },
        {
          "name": "stderr",
          "output_type": "stream",
          "text": [
            "100%|██████████| 469/469 [00:13<00:00, 34.20it/s]\n"
          ]
        },
        {
          "name": "stdout",
          "output_type": "stream",
          "text": [
            "\tEpoch, 96 complete! \tLoss:  12286.974217080662\n"
          ]
        },
        {
          "name": "stderr",
          "output_type": "stream",
          "text": [
            "100%|██████████| 469/469 [00:13<00:00, 33.98it/s]\n"
          ]
        },
        {
          "name": "stdout",
          "output_type": "stream",
          "text": [
            "\tEpoch, 97 complete! \tLoss:  12281.580397385816\n"
          ]
        },
        {
          "name": "stderr",
          "output_type": "stream",
          "text": [
            "100%|██████████| 469/469 [00:13<00:00, 34.25it/s]\n"
          ]
        },
        {
          "name": "stdout",
          "output_type": "stream",
          "text": [
            "\tEpoch, 98 complete! \tLoss:  12280.06533578726\n"
          ]
        },
        {
          "name": "stderr",
          "output_type": "stream",
          "text": [
            "100%|██████████| 469/469 [00:13<00:00, 34.10it/s]\n"
          ]
        },
        {
          "name": "stdout",
          "output_type": "stream",
          "text": [
            "\tEpoch, 99 complete! \tLoss:  12280.755855201656\n"
          ]
        },
        {
          "name": "stderr",
          "output_type": "stream",
          "text": [
            "100%|██████████| 469/469 [00:13<00:00, 33.61it/s]\n"
          ]
        },
        {
          "name": "stdout",
          "output_type": "stream",
          "text": [
            "\tEpoch, 100 complete! \tLoss:  12264.378305288461\n"
          ]
        },
        {
          "name": "stderr",
          "output_type": "stream",
          "text": [
            "100%|██████████| 469/469 [00:13<00:00, 34.09it/s]\n"
          ]
        },
        {
          "name": "stdout",
          "output_type": "stream",
          "text": [
            "\tEpoch, 101 complete! \tLoss:  12267.511516342815\n"
          ]
        },
        {
          "name": "stderr",
          "output_type": "stream",
          "text": [
            "100%|██████████| 469/469 [00:13<00:00, 34.17it/s]\n"
          ]
        },
        {
          "name": "stdout",
          "output_type": "stream",
          "text": [
            "\tEpoch, 102 complete! \tLoss:  12264.076781183227\n"
          ]
        },
        {
          "name": "stderr",
          "output_type": "stream",
          "text": [
            "100%|██████████| 469/469 [00:13<00:00, 34.13it/s]\n"
          ]
        },
        {
          "name": "stdout",
          "output_type": "stream",
          "text": [
            "\tEpoch, 103 complete! \tLoss:  12264.201726929754\n"
          ]
        },
        {
          "name": "stderr",
          "output_type": "stream",
          "text": [
            "100%|██████████| 469/469 [00:13<00:00, 34.02it/s]\n"
          ]
        },
        {
          "name": "stdout",
          "output_type": "stream",
          "text": [
            "\tEpoch, 104 complete! \tLoss:  12250.73868606437\n"
          ]
        },
        {
          "name": "stderr",
          "output_type": "stream",
          "text": [
            "100%|██████████| 469/469 [00:13<00:00, 34.10it/s]\n"
          ]
        },
        {
          "name": "stdout",
          "output_type": "stream",
          "text": [
            "\tEpoch, 105 complete! \tLoss:  12257.925610142895\n"
          ]
        },
        {
          "name": "stderr",
          "output_type": "stream",
          "text": [
            "100%|██████████| 469/469 [00:13<00:00, 34.05it/s]\n"
          ]
        },
        {
          "name": "stdout",
          "output_type": "stream",
          "text": [
            "\tEpoch, 106 complete! \tLoss:  12260.13641826923\n"
          ]
        },
        {
          "name": "stderr",
          "output_type": "stream",
          "text": [
            "100%|██████████| 469/469 [00:13<00:00, 34.10it/s]\n"
          ]
        },
        {
          "name": "stdout",
          "output_type": "stream",
          "text": [
            "\tEpoch, 107 complete! \tLoss:  12251.20147235577\n"
          ]
        },
        {
          "name": "stderr",
          "output_type": "stream",
          "text": [
            "100%|██████████| 469/469 [00:13<00:00, 34.05it/s]\n"
          ]
        },
        {
          "name": "stdout",
          "output_type": "stream",
          "text": [
            "\tEpoch, 108 complete! \tLoss:  12247.075307992789\n"
          ]
        },
        {
          "name": "stderr",
          "output_type": "stream",
          "text": [
            "100%|██████████| 469/469 [00:13<00:00, 34.04it/s]\n"
          ]
        },
        {
          "name": "stdout",
          "output_type": "stream",
          "text": [
            "\tEpoch, 109 complete! \tLoss:  12246.918189937232\n"
          ]
        },
        {
          "name": "stderr",
          "output_type": "stream",
          "text": [
            "100%|██████████| 469/469 [00:13<00:00, 34.34it/s]\n"
          ]
        },
        {
          "name": "stdout",
          "output_type": "stream",
          "text": [
            "\tEpoch, 110 complete! \tLoss:  12248.773268479566\n"
          ]
        },
        {
          "name": "stderr",
          "output_type": "stream",
          "text": [
            "100%|██████████| 469/469 [00:13<00:00, 34.21it/s]\n"
          ]
        },
        {
          "name": "stdout",
          "output_type": "stream",
          "text": [
            "\tEpoch, 111 complete! \tLoss:  12242.139873798076\n"
          ]
        },
        {
          "name": "stderr",
          "output_type": "stream",
          "text": [
            "100%|██████████| 469/469 [00:13<00:00, 34.13it/s]\n"
          ]
        },
        {
          "name": "stdout",
          "output_type": "stream",
          "text": [
            "\tEpoch, 112 complete! \tLoss:  12236.741298577725\n"
          ]
        },
        {
          "name": "stderr",
          "output_type": "stream",
          "text": [
            "100%|██████████| 469/469 [00:13<00:00, 34.18it/s]\n"
          ]
        },
        {
          "name": "stdout",
          "output_type": "stream",
          "text": [
            "\tEpoch, 113 complete! \tLoss:  12235.868606436965\n"
          ]
        },
        {
          "name": "stderr",
          "output_type": "stream",
          "text": [
            "100%|██████████| 469/469 [00:13<00:00, 34.09it/s]\n"
          ]
        },
        {
          "name": "stdout",
          "output_type": "stream",
          "text": [
            "\tEpoch, 114 complete! \tLoss:  12237.614218165732\n"
          ]
        },
        {
          "name": "stderr",
          "output_type": "stream",
          "text": [
            "100%|██████████| 469/469 [00:13<00:00, 34.11it/s]\n"
          ]
        },
        {
          "name": "stdout",
          "output_type": "stream",
          "text": [
            "\tEpoch, 115 complete! \tLoss:  12225.670086722088\n"
          ]
        },
        {
          "name": "stderr",
          "output_type": "stream",
          "text": [
            "100%|██████████| 469/469 [00:13<00:00, 34.14it/s]\n"
          ]
        },
        {
          "name": "stdout",
          "output_type": "stream",
          "text": [
            "\tEpoch, 116 complete! \tLoss:  12230.787956563836\n"
          ]
        },
        {
          "name": "stderr",
          "output_type": "stream",
          "text": [
            "100%|██████████| 469/469 [00:13<00:00, 33.94it/s]\n"
          ]
        },
        {
          "name": "stdout",
          "output_type": "stream",
          "text": [
            "\tEpoch, 117 complete! \tLoss:  12223.289075020031\n"
          ]
        },
        {
          "name": "stderr",
          "output_type": "stream",
          "text": [
            "100%|██████████| 469/469 [00:13<00:00, 34.08it/s]\n"
          ]
        },
        {
          "name": "stdout",
          "output_type": "stream",
          "text": [
            "\tEpoch, 118 complete! \tLoss:  12219.178756844285\n"
          ]
        },
        {
          "name": "stderr",
          "output_type": "stream",
          "text": [
            "100%|██████████| 469/469 [00:13<00:00, 34.10it/s]\n"
          ]
        },
        {
          "name": "stdout",
          "output_type": "stream",
          "text": [
            "\tEpoch, 119 complete! \tLoss:  12217.111891526441\n"
          ]
        },
        {
          "name": "stderr",
          "output_type": "stream",
          "text": [
            "100%|██████████| 469/469 [00:13<00:00, 33.93it/s]\n"
          ]
        },
        {
          "name": "stdout",
          "output_type": "stream",
          "text": [
            "\tEpoch, 120 complete! \tLoss:  12221.381664830395\n"
          ]
        },
        {
          "name": "stderr",
          "output_type": "stream",
          "text": [
            "100%|██████████| 469/469 [00:13<00:00, 34.02it/s]\n"
          ]
        },
        {
          "name": "stdout",
          "output_type": "stream",
          "text": [
            "\tEpoch, 121 complete! \tLoss:  12219.312330979566\n"
          ]
        },
        {
          "name": "stderr",
          "output_type": "stream",
          "text": [
            "100%|██████████| 469/469 [00:13<00:00, 33.88it/s]\n"
          ]
        },
        {
          "name": "stdout",
          "output_type": "stream",
          "text": [
            "\tEpoch, 122 complete! \tLoss:  12212.35314211071\n"
          ]
        },
        {
          "name": "stderr",
          "output_type": "stream",
          "text": [
            "100%|██████████| 469/469 [00:13<00:00, 33.91it/s]\n"
          ]
        },
        {
          "name": "stdout",
          "output_type": "stream",
          "text": [
            "\tEpoch, 123 complete! \tLoss:  12211.231178218482\n"
          ]
        },
        {
          "name": "stderr",
          "output_type": "stream",
          "text": [
            "100%|██████████| 469/469 [00:13<00:00, 34.19it/s]\n"
          ]
        },
        {
          "name": "stdout",
          "output_type": "stream",
          "text": [
            "\tEpoch, 124 complete! \tLoss:  12204.048106136484\n"
          ]
        },
        {
          "name": "stderr",
          "output_type": "stream",
          "text": [
            "100%|██████████| 469/469 [00:13<00:00, 34.21it/s]\n"
          ]
        },
        {
          "name": "stdout",
          "output_type": "stream",
          "text": [
            "\tEpoch, 125 complete! \tLoss:  12207.406320946848\n"
          ]
        },
        {
          "name": "stderr",
          "output_type": "stream",
          "text": [
            "100%|██████████| 469/469 [00:13<00:00, 33.70it/s]\n"
          ]
        },
        {
          "name": "stdout",
          "output_type": "stream",
          "text": [
            "\tEpoch, 126 complete! \tLoss:  12204.64396993523\n"
          ]
        },
        {
          "name": "stderr",
          "output_type": "stream",
          "text": [
            "100%|██████████| 469/469 [00:13<00:00, 34.00it/s]\n"
          ]
        },
        {
          "name": "stdout",
          "output_type": "stream",
          "text": [
            "\tEpoch, 127 complete! \tLoss:  12189.330207498664\n"
          ]
        },
        {
          "name": "stderr",
          "output_type": "stream",
          "text": [
            "100%|██████████| 469/469 [00:13<00:00, 33.85it/s]\n"
          ]
        },
        {
          "name": "stdout",
          "output_type": "stream",
          "text": [
            "\tEpoch, 128 complete! \tLoss:  12192.24423452524\n"
          ]
        },
        {
          "name": "stderr",
          "output_type": "stream",
          "text": [
            "100%|██████████| 469/469 [00:13<00:00, 34.08it/s]\n"
          ]
        },
        {
          "name": "stdout",
          "output_type": "stream",
          "text": [
            "\tEpoch, 129 complete! \tLoss:  12189.656162359775\n"
          ]
        },
        {
          "name": "stderr",
          "output_type": "stream",
          "text": [
            "100%|██████████| 469/469 [00:13<00:00, 34.13it/s]\n"
          ]
        },
        {
          "name": "stdout",
          "output_type": "stream",
          "text": [
            "\tEpoch, 130 complete! \tLoss:  12188.648698334002\n"
          ]
        },
        {
          "name": "stderr",
          "output_type": "stream",
          "text": [
            "100%|██████████| 469/469 [00:13<00:00, 34.02it/s]\n"
          ]
        },
        {
          "name": "stdout",
          "output_type": "stream",
          "text": [
            "\tEpoch, 131 complete! \tLoss:  12185.384438017494\n"
          ]
        },
        {
          "name": "stderr",
          "output_type": "stream",
          "text": [
            "100%|██████████| 469/469 [00:13<00:00, 34.06it/s]\n"
          ]
        },
        {
          "name": "stdout",
          "output_type": "stream",
          "text": [
            "\tEpoch, 132 complete! \tLoss:  12192.369766626603\n"
          ]
        },
        {
          "name": "stderr",
          "output_type": "stream",
          "text": [
            "100%|██████████| 469/469 [00:13<00:00, 34.00it/s]\n"
          ]
        },
        {
          "name": "stdout",
          "output_type": "stream",
          "text": [
            "\tEpoch, 133 complete! \tLoss:  12187.40777744391\n"
          ]
        },
        {
          "name": "stderr",
          "output_type": "stream",
          "text": [
            "100%|██████████| 469/469 [00:13<00:00, 34.12it/s]\n"
          ]
        },
        {
          "name": "stdout",
          "output_type": "stream",
          "text": [
            "\tEpoch, 134 complete! \tLoss:  12178.56892068977\n"
          ]
        },
        {
          "name": "stderr",
          "output_type": "stream",
          "text": [
            "100%|██████████| 469/469 [00:13<00:00, 33.77it/s]\n"
          ]
        },
        {
          "name": "stdout",
          "output_type": "stream",
          "text": [
            "\tEpoch, 135 complete! \tLoss:  12173.792111127805\n"
          ]
        },
        {
          "name": "stderr",
          "output_type": "stream",
          "text": [
            "100%|██████████| 469/469 [00:13<00:00, 33.88it/s]\n"
          ]
        },
        {
          "name": "stdout",
          "output_type": "stream",
          "text": [
            "\tEpoch, 136 complete! \tLoss:  12174.256157769098\n"
          ]
        },
        {
          "name": "stderr",
          "output_type": "stream",
          "text": [
            "100%|██████████| 469/469 [00:13<00:00, 34.12it/s]\n"
          ]
        },
        {
          "name": "stdout",
          "output_type": "stream",
          "text": [
            "\tEpoch, 137 complete! \tLoss:  12177.701647636219\n"
          ]
        },
        {
          "name": "stderr",
          "output_type": "stream",
          "text": [
            "100%|██████████| 469/469 [00:13<00:00, 33.90it/s]\n"
          ]
        },
        {
          "name": "stdout",
          "output_type": "stream",
          "text": [
            "\tEpoch, 138 complete! \tLoss:  12171.360950437367\n"
          ]
        },
        {
          "name": "stderr",
          "output_type": "stream",
          "text": [
            "100%|██████████| 469/469 [00:13<00:00, 33.79it/s]\n"
          ]
        },
        {
          "name": "stdout",
          "output_type": "stream",
          "text": [
            "\tEpoch, 139 complete! \tLoss:  12175.386503822783\n"
          ]
        },
        {
          "name": "stderr",
          "output_type": "stream",
          "text": [
            "100%|██████████| 469/469 [00:13<00:00, 34.02it/s]\n"
          ]
        },
        {
          "name": "stdout",
          "output_type": "stream",
          "text": [
            "\tEpoch, 140 complete! \tLoss:  12167.094046307426\n"
          ]
        },
        {
          "name": "stderr",
          "output_type": "stream",
          "text": [
            "100%|██████████| 469/469 [00:13<00:00, 34.14it/s]\n"
          ]
        },
        {
          "name": "stdout",
          "output_type": "stream",
          "text": [
            "\tEpoch, 141 complete! \tLoss:  12169.515723073584\n"
          ]
        },
        {
          "name": "stderr",
          "output_type": "stream",
          "text": [
            "100%|██████████| 469/469 [00:13<00:00, 33.90it/s]\n"
          ]
        },
        {
          "name": "stdout",
          "output_type": "stream",
          "text": [
            "\tEpoch, 142 complete! \tLoss:  12172.41918319311\n"
          ]
        },
        {
          "name": "stderr",
          "output_type": "stream",
          "text": [
            "100%|██████████| 469/469 [00:13<00:00, 34.10it/s]\n"
          ]
        },
        {
          "name": "stdout",
          "output_type": "stream",
          "text": [
            "\tEpoch, 143 complete! \tLoss:  12165.386476696047\n"
          ]
        },
        {
          "name": "stderr",
          "output_type": "stream",
          "text": [
            "100%|██████████| 469/469 [00:13<00:00, 34.08it/s]\n"
          ]
        },
        {
          "name": "stdout",
          "output_type": "stream",
          "text": [
            "\tEpoch, 144 complete! \tLoss:  12162.17025365585\n"
          ]
        },
        {
          "name": "stderr",
          "output_type": "stream",
          "text": [
            "100%|██████████| 469/469 [00:13<00:00, 34.16it/s]\n"
          ]
        },
        {
          "name": "stdout",
          "output_type": "stream",
          "text": [
            "\tEpoch, 145 complete! \tLoss:  12145.315093733307\n"
          ]
        },
        {
          "name": "stderr",
          "output_type": "stream",
          "text": [
            "100%|██████████| 469/469 [00:13<00:00, 33.65it/s]\n"
          ]
        },
        {
          "name": "stdout",
          "output_type": "stream",
          "text": [
            "\tEpoch, 146 complete! \tLoss:  12148.052031166533\n"
          ]
        },
        {
          "name": "stderr",
          "output_type": "stream",
          "text": [
            "100%|██████████| 469/469 [00:13<00:00, 33.82it/s]\n"
          ]
        },
        {
          "name": "stdout",
          "output_type": "stream",
          "text": [
            "\tEpoch, 147 complete! \tLoss:  12144.91794788328\n"
          ]
        },
        {
          "name": "stderr",
          "output_type": "stream",
          "text": [
            "100%|██████████| 469/469 [00:13<00:00, 34.03it/s]\n"
          ]
        },
        {
          "name": "stdout",
          "output_type": "stream",
          "text": [
            "\tEpoch, 148 complete! \tLoss:  12150.888239933895\n"
          ]
        },
        {
          "name": "stderr",
          "output_type": "stream",
          "text": [
            "100%|██████████| 469/469 [00:13<00:00, 34.21it/s]\n"
          ]
        },
        {
          "name": "stdout",
          "output_type": "stream",
          "text": [
            "\tEpoch, 149 complete! \tLoss:  12151.233561197916\n"
          ]
        },
        {
          "name": "stderr",
          "output_type": "stream",
          "text": [
            "100%|██████████| 469/469 [00:13<00:00, 33.87it/s]\n"
          ]
        },
        {
          "name": "stdout",
          "output_type": "stream",
          "text": [
            "\tEpoch, 150 complete! \tLoss:  12156.172636635283\n"
          ]
        },
        {
          "name": "stderr",
          "output_type": "stream",
          "text": [
            "100%|██████████| 469/469 [00:13<00:00, 34.02it/s]\n"
          ]
        },
        {
          "name": "stdout",
          "output_type": "stream",
          "text": [
            "\tEpoch, 151 complete! \tLoss:  12142.416330712473\n"
          ]
        },
        {
          "name": "stderr",
          "output_type": "stream",
          "text": [
            "100%|██████████| 469/469 [00:13<00:00, 34.19it/s]\n"
          ]
        },
        {
          "name": "stdout",
          "output_type": "stream",
          "text": [
            "\tEpoch, 152 complete! \tLoss:  12145.58626928085\n"
          ]
        },
        {
          "name": "stderr",
          "output_type": "stream",
          "text": [
            "100%|██████████| 469/469 [00:13<00:00, 34.05it/s]\n"
          ]
        },
        {
          "name": "stdout",
          "output_type": "stream",
          "text": [
            "\tEpoch, 153 complete! \tLoss:  12132.774971203926\n"
          ]
        },
        {
          "name": "stderr",
          "output_type": "stream",
          "text": [
            "100%|██████████| 469/469 [00:13<00:00, 34.19it/s]\n"
          ]
        },
        {
          "name": "stdout",
          "output_type": "stream",
          "text": [
            "\tEpoch, 154 complete! \tLoss:  12146.172816089076\n"
          ]
        },
        {
          "name": "stderr",
          "output_type": "stream",
          "text": [
            "100%|██████████| 469/469 [00:13<00:00, 34.26it/s]\n"
          ]
        },
        {
          "name": "stdout",
          "output_type": "stream",
          "text": [
            "\tEpoch, 155 complete! \tLoss:  12141.874248798076\n"
          ]
        },
        {
          "name": "stderr",
          "output_type": "stream",
          "text": [
            "100%|██████████| 469/469 [00:13<00:00, 34.08it/s]\n"
          ]
        },
        {
          "name": "stdout",
          "output_type": "stream",
          "text": [
            "\tEpoch, 156 complete! \tLoss:  12136.200431106437\n"
          ]
        },
        {
          "name": "stderr",
          "output_type": "stream",
          "text": [
            "100%|██████████| 469/469 [00:13<00:00, 33.84it/s]\n"
          ]
        },
        {
          "name": "stdout",
          "output_type": "stream",
          "text": [
            "\tEpoch, 157 complete! \tLoss:  12136.327478131678\n"
          ]
        },
        {
          "name": "stderr",
          "output_type": "stream",
          "text": [
            "100%|██████████| 469/469 [00:13<00:00, 33.96it/s]\n"
          ]
        },
        {
          "name": "stdout",
          "output_type": "stream",
          "text": [
            "\tEpoch, 158 complete! \tLoss:  12128.59905849359\n"
          ]
        },
        {
          "name": "stderr",
          "output_type": "stream",
          "text": [
            "100%|██████████| 469/469 [00:13<00:00, 33.82it/s]\n"
          ]
        },
        {
          "name": "stdout",
          "output_type": "stream",
          "text": [
            "\tEpoch, 159 complete! \tLoss:  12132.05361703726\n"
          ]
        },
        {
          "name": "stderr",
          "output_type": "stream",
          "text": [
            "100%|██████████| 469/469 [00:13<00:00, 34.02it/s]\n"
          ]
        },
        {
          "name": "stdout",
          "output_type": "stream",
          "text": [
            "\tEpoch, 160 complete! \tLoss:  12128.215837005877\n"
          ]
        },
        {
          "name": "stderr",
          "output_type": "stream",
          "text": [
            "100%|██████████| 469/469 [00:13<00:00, 33.92it/s]\n"
          ]
        },
        {
          "name": "stdout",
          "output_type": "stream",
          "text": [
            "\tEpoch, 161 complete! \tLoss:  12130.627076238648\n"
          ]
        },
        {
          "name": "stderr",
          "output_type": "stream",
          "text": [
            "100%|██████████| 469/469 [00:13<00:00, 34.06it/s]\n"
          ]
        },
        {
          "name": "stdout",
          "output_type": "stream",
          "text": [
            "\tEpoch, 162 complete! \tLoss:  12125.594561715412\n"
          ]
        },
        {
          "name": "stderr",
          "output_type": "stream",
          "text": [
            "100%|██████████| 469/469 [00:13<00:00, 34.26it/s]\n"
          ]
        },
        {
          "name": "stdout",
          "output_type": "stream",
          "text": [
            "\tEpoch, 163 complete! \tLoss:  12130.175328442174\n"
          ]
        },
        {
          "name": "stderr",
          "output_type": "stream",
          "text": [
            "100%|██████████| 469/469 [00:13<00:00, 33.86it/s]\n"
          ]
        },
        {
          "name": "stdout",
          "output_type": "stream",
          "text": [
            "\tEpoch, 164 complete! \tLoss:  12120.181171123799\n"
          ]
        },
        {
          "name": "stderr",
          "output_type": "stream",
          "text": [
            "100%|██████████| 469/469 [00:13<00:00, 34.18it/s]\n"
          ]
        },
        {
          "name": "stdout",
          "output_type": "stream",
          "text": [
            "\tEpoch, 165 complete! \tLoss:  12112.100673577725\n"
          ]
        },
        {
          "name": "stderr",
          "output_type": "stream",
          "text": [
            "100%|██████████| 469/469 [00:13<00:00, 34.04it/s]\n"
          ]
        },
        {
          "name": "stdout",
          "output_type": "stream",
          "text": [
            "\tEpoch, 166 complete! \tLoss:  12119.484352046607\n"
          ]
        },
        {
          "name": "stderr",
          "output_type": "stream",
          "text": [
            "100%|██████████| 469/469 [00:13<00:00, 33.73it/s]\n"
          ]
        },
        {
          "name": "stdout",
          "output_type": "stream",
          "text": [
            "\tEpoch, 167 complete! \tLoss:  12107.606080144898\n"
          ]
        },
        {
          "name": "stderr",
          "output_type": "stream",
          "text": [
            "100%|██████████| 469/469 [00:13<00:00, 33.95it/s]\n"
          ]
        },
        {
          "name": "stdout",
          "output_type": "stream",
          "text": [
            "\tEpoch, 168 complete! \tLoss:  12119.62205987914\n"
          ]
        },
        {
          "name": "stderr",
          "output_type": "stream",
          "text": [
            "100%|██████████| 469/469 [00:13<00:00, 33.82it/s]\n"
          ]
        },
        {
          "name": "stdout",
          "output_type": "stream",
          "text": [
            "\tEpoch, 169 complete! \tLoss:  12104.478849492521\n"
          ]
        },
        {
          "name": "stderr",
          "output_type": "stream",
          "text": [
            "100%|██████████| 469/469 [00:13<00:00, 33.84it/s]\n"
          ]
        },
        {
          "name": "stdout",
          "output_type": "stream",
          "text": [
            "\tEpoch, 170 complete! \tLoss:  12113.453838641826\n"
          ]
        },
        {
          "name": "stderr",
          "output_type": "stream",
          "text": [
            "100%|██████████| 469/469 [00:13<00:00, 33.97it/s]\n"
          ]
        },
        {
          "name": "stdout",
          "output_type": "stream",
          "text": [
            "\tEpoch, 171 complete! \tLoss:  12109.073133680555\n"
          ]
        },
        {
          "name": "stderr",
          "output_type": "stream",
          "text": [
            "100%|██████████| 469/469 [00:13<00:00, 33.76it/s]\n"
          ]
        },
        {
          "name": "stdout",
          "output_type": "stream",
          "text": [
            "\tEpoch, 172 complete! \tLoss:  12113.716385800615\n"
          ]
        },
        {
          "name": "stderr",
          "output_type": "stream",
          "text": [
            "100%|██████████| 469/469 [00:13<00:00, 33.93it/s]\n"
          ]
        },
        {
          "name": "stdout",
          "output_type": "stream",
          "text": [
            "\tEpoch, 173 complete! \tLoss:  12114.082767845219\n"
          ]
        },
        {
          "name": "stderr",
          "output_type": "stream",
          "text": [
            "100%|██████████| 469/469 [00:13<00:00, 34.12it/s]\n"
          ]
        },
        {
          "name": "stdout",
          "output_type": "stream",
          "text": [
            "\tEpoch, 174 complete! \tLoss:  12108.962206196582\n"
          ]
        },
        {
          "name": "stderr",
          "output_type": "stream",
          "text": [
            "100%|██████████| 469/469 [00:13<00:00, 34.11it/s]\n"
          ]
        },
        {
          "name": "stdout",
          "output_type": "stream",
          "text": [
            "\tEpoch, 175 complete! \tLoss:  12105.889406383547\n"
          ]
        },
        {
          "name": "stderr",
          "output_type": "stream",
          "text": [
            "100%|██████████| 469/469 [00:13<00:00, 34.18it/s]\n"
          ]
        },
        {
          "name": "stdout",
          "output_type": "stream",
          "text": [
            "\tEpoch, 176 complete! \tLoss:  12103.13197157118\n"
          ]
        },
        {
          "name": "stderr",
          "output_type": "stream",
          "text": [
            "100%|██████████| 469/469 [00:13<00:00, 34.33it/s]\n"
          ]
        },
        {
          "name": "stdout",
          "output_type": "stream",
          "text": [
            "\tEpoch, 177 complete! \tLoss:  12103.462759164664\n"
          ]
        },
        {
          "name": "stderr",
          "output_type": "stream",
          "text": [
            "100%|██████████| 469/469 [00:13<00:00, 34.21it/s]\n"
          ]
        },
        {
          "name": "stdout",
          "output_type": "stream",
          "text": [
            "\tEpoch, 178 complete! \tLoss:  12096.099227514022\n"
          ]
        },
        {
          "name": "stderr",
          "output_type": "stream",
          "text": [
            "100%|██████████| 469/469 [00:13<00:00, 34.24it/s]\n"
          ]
        },
        {
          "name": "stdout",
          "output_type": "stream",
          "text": [
            "\tEpoch, 179 complete! \tLoss:  12095.168452857906\n"
          ]
        },
        {
          "name": "stderr",
          "output_type": "stream",
          "text": [
            "100%|██████████| 469/469 [00:13<00:00, 33.90it/s]\n"
          ]
        },
        {
          "name": "stdout",
          "output_type": "stream",
          "text": [
            "\tEpoch, 180 complete! \tLoss:  12108.226585453393\n"
          ]
        },
        {
          "name": "stderr",
          "output_type": "stream",
          "text": [
            "100%|██████████| 469/469 [00:13<00:00, 34.08it/s]\n"
          ]
        },
        {
          "name": "stdout",
          "output_type": "stream",
          "text": [
            "\tEpoch, 181 complete! \tLoss:  12092.96636076055\n"
          ]
        },
        {
          "name": "stderr",
          "output_type": "stream",
          "text": [
            "100%|██████████| 469/469 [00:13<00:00, 34.22it/s]\n"
          ]
        },
        {
          "name": "stdout",
          "output_type": "stream",
          "text": [
            "\tEpoch, 182 complete! \tLoss:  12090.688585069445\n"
          ]
        },
        {
          "name": "stderr",
          "output_type": "stream",
          "text": [
            "100%|██████████| 469/469 [00:13<00:00, 34.01it/s]\n"
          ]
        },
        {
          "name": "stdout",
          "output_type": "stream",
          "text": [
            "\tEpoch, 183 complete! \tLoss:  12093.474949502537\n"
          ]
        },
        {
          "name": "stderr",
          "output_type": "stream",
          "text": [
            "100%|██████████| 469/469 [00:13<00:00, 33.99it/s]\n"
          ]
        },
        {
          "name": "stdout",
          "output_type": "stream",
          "text": [
            "\tEpoch, 184 complete! \tLoss:  12089.055691189236\n"
          ]
        },
        {
          "name": "stderr",
          "output_type": "stream",
          "text": [
            "100%|██████████| 469/469 [00:13<00:00, 34.06it/s]\n"
          ]
        },
        {
          "name": "stdout",
          "output_type": "stream",
          "text": [
            "\tEpoch, 185 complete! \tLoss:  12094.210115351229\n"
          ]
        },
        {
          "name": "stderr",
          "output_type": "stream",
          "text": [
            "100%|██████████| 469/469 [00:13<00:00, 34.01it/s]\n"
          ]
        },
        {
          "name": "stdout",
          "output_type": "stream",
          "text": [
            "\tEpoch, 186 complete! \tLoss:  12086.462748731303\n"
          ]
        },
        {
          "name": "stderr",
          "output_type": "stream",
          "text": [
            "100%|██████████| 469/469 [00:13<00:00, 33.91it/s]\n"
          ]
        },
        {
          "name": "stdout",
          "output_type": "stream",
          "text": [
            "\tEpoch, 187 complete! \tLoss:  12085.094555455395\n"
          ]
        },
        {
          "name": "stderr",
          "output_type": "stream",
          "text": [
            "100%|██████████| 469/469 [00:13<00:00, 34.08it/s]\n"
          ]
        },
        {
          "name": "stdout",
          "output_type": "stream",
          "text": [
            "\tEpoch, 188 complete! \tLoss:  12083.62000242054\n"
          ]
        },
        {
          "name": "stderr",
          "output_type": "stream",
          "text": [
            "100%|██████████| 469/469 [00:13<00:00, 34.02it/s]\n"
          ]
        },
        {
          "name": "stdout",
          "output_type": "stream",
          "text": [
            "\tEpoch, 189 complete! \tLoss:  12079.906880174947\n"
          ]
        },
        {
          "name": "stderr",
          "output_type": "stream",
          "text": [
            "100%|██████████| 469/469 [00:13<00:00, 34.27it/s]\n"
          ]
        },
        {
          "name": "stdout",
          "output_type": "stream",
          "text": [
            "\tEpoch, 190 complete! \tLoss:  12076.769274589344\n"
          ]
        },
        {
          "name": "stderr",
          "output_type": "stream",
          "text": [
            "100%|██████████| 469/469 [00:13<00:00, 34.12it/s]\n"
          ]
        },
        {
          "name": "stdout",
          "output_type": "stream",
          "text": [
            "\tEpoch, 191 complete! \tLoss:  12075.40067232572\n"
          ]
        },
        {
          "name": "stderr",
          "output_type": "stream",
          "text": [
            "100%|██████████| 469/469 [00:13<00:00, 33.99it/s]\n"
          ]
        },
        {
          "name": "stdout",
          "output_type": "stream",
          "text": [
            "\tEpoch, 192 complete! \tLoss:  12071.520708133014\n"
          ]
        },
        {
          "name": "stderr",
          "output_type": "stream",
          "text": [
            "100%|██████████| 469/469 [00:13<00:00, 34.17it/s]\n"
          ]
        },
        {
          "name": "stdout",
          "output_type": "stream",
          "text": [
            "\tEpoch, 193 complete! \tLoss:  12080.161520933494\n"
          ]
        },
        {
          "name": "stderr",
          "output_type": "stream",
          "text": [
            "100%|██████████| 469/469 [00:13<00:00, 33.90it/s]\n"
          ]
        },
        {
          "name": "stdout",
          "output_type": "stream",
          "text": [
            "\tEpoch, 194 complete! \tLoss:  12068.45870267428\n"
          ]
        },
        {
          "name": "stderr",
          "output_type": "stream",
          "text": [
            "100%|██████████| 469/469 [00:13<00:00, 34.26it/s]\n"
          ]
        },
        {
          "name": "stdout",
          "output_type": "stream",
          "text": [
            "\tEpoch, 195 complete! \tLoss:  12071.657086755475\n"
          ]
        },
        {
          "name": "stderr",
          "output_type": "stream",
          "text": [
            "100%|██████████| 469/469 [00:13<00:00, 34.12it/s]\n"
          ]
        },
        {
          "name": "stdout",
          "output_type": "stream",
          "text": [
            "\tEpoch, 196 complete! \tLoss:  12080.356925247062\n"
          ]
        },
        {
          "name": "stderr",
          "output_type": "stream",
          "text": [
            "100%|██████████| 469/469 [00:13<00:00, 34.21it/s]\n"
          ]
        },
        {
          "name": "stdout",
          "output_type": "stream",
          "text": [
            "\tEpoch, 197 complete! \tLoss:  12073.895795773236\n"
          ]
        },
        {
          "name": "stderr",
          "output_type": "stream",
          "text": [
            "100%|██████████| 469/469 [00:13<00:00, 34.21it/s]\n"
          ]
        },
        {
          "name": "stdout",
          "output_type": "stream",
          "text": [
            "\tEpoch, 198 complete! \tLoss:  12068.40575128539\n"
          ]
        },
        {
          "name": "stderr",
          "output_type": "stream",
          "text": [
            "100%|██████████| 469/469 [00:13<00:00, 34.24it/s]\n"
          ]
        },
        {
          "name": "stdout",
          "output_type": "stream",
          "text": [
            "\tEpoch, 199 complete! \tLoss:  12073.68157802484\n"
          ]
        },
        {
          "name": "stderr",
          "output_type": "stream",
          "text": [
            "100%|██████████| 469/469 [00:13<00:00, 34.11it/s]"
          ]
        },
        {
          "name": "stdout",
          "output_type": "stream",
          "text": [
            "\tEpoch, 200 complete! \tLoss:  12065.25379148304\n"
          ]
        },
        {
          "name": "stderr",
          "output_type": "stream",
          "text": [
            "\n"
          ]
        }
      ],
      "source": [
        "# train or load pre-trained model\n",
        "train_ = True\n",
        "\n",
        "#train loop\n",
        "if train_:\n",
        "    optimizer = optim.Adam(model.parameters(), lr=lr)\n",
        "    model.train()\n",
        "\n",
        "    for e in range(1, num_epochs+1):\n",
        "        train_loss = 0.\n",
        "        train_loss_vals = []\n",
        "        for batch_idx, (x, _) in tqdm(enumerate(train_loader), total=len(train_loader)):\n",
        "            x = x.to(device)\n",
        "            x = x.view(-1, 784)\n",
        "\n",
        "            optimizer.zero_grad()\n",
        "            recon_batch, _ = model(x)\n",
        "            l, BCE, KLD = loss(model, recon_batch, x)\n",
        "            l.backward()\n",
        "            train_loss += l.item()\n",
        "            train_loss_vals.append(train_loss)\n",
        "            optimizer.step()\n",
        "        print(\"\\tEpoch,\", e, \"complete!\", \"\\tLoss: \", train_loss / batch_idx)\n",
        "else:\n",
        "    model.load_state_dict(torch.load('./trained_models/diffusion_model'))"
      ]
    },
    {
      "cell_type": "code",
      "execution_count": 11,
      "metadata": {
        "id": "A4lgayh-13-s"
      },
      "outputs": [],
      "source": [
        "torch.save(model.state_dict(), 'LadderVAE')"
      ]
    },
    {
      "cell_type": "code",
      "execution_count": 61,
      "metadata": {
        "id": "B44pzVK3OM7L"
      },
      "outputs": [],
      "source": [
        "model.eval()\n",
        "z = torch.randn((1, 4)).to(device)\n",
        "img = model.decode(z)"
      ]
    },
    {
      "cell_type": "code",
      "execution_count": 62,
      "metadata": {
        "colab": {
          "base_uri": "https://localhost:8080/",
          "height": 448
        },
        "id": "vBqO9AlVOjXL",
        "outputId": "fd3167a3-cb77-4d76-cfec-15bf59457bc7"
      },
      "outputs": [
        {
          "data": {
            "text/plain": [
              "<matplotlib.image.AxesImage at 0x7c9008443700>"
            ]
          },
          "execution_count": 62,
          "metadata": {},
          "output_type": "execute_result"
        },
        {
          "data": {
            "image/png": "[encoded data removed]",
            "text/plain": [
              "<Figure size 640x480 with 1 Axes>"
            ]
          },
          "metadata": {},
          "output_type": "display_data"
        }
      ],
      "source": [
        "plt.imshow(img.view(28, 28).detach().cpu().numpy(), cmap='gray')"
      ]
    },
    {
      "cell_type": "code",
      "execution_count": 65,
      "metadata": {
        "id": "h_Enk1EAOt10"
      },
      "outputs": [],
      "source": [
        "z = torch.randn((64, 4)).to(device)\n",
        "images = model.decode(z)"
      ]
    },
    {
      "cell_type": "code",
      "execution_count": 72,
      "metadata": {
        "id": "Ti902GbiR-s4"
      },
      "outputs": [],
      "source": [
        "def draw_sample_image(x, postfix):\n",
        "\n",
        "    plt.figure(figsize=(8,8))\n",
        "    plt.axis(\"off\")\n",
        "    plt.title(\"Visualization of {}\".format(postfix))\n",
        "    plt.imshow(np.transpose(torchvision.utils.make_grid(x.view(-1, 1, 28, 28).detach().cpu(), padding=2, normalize=True), (1, 2, 0)))"
      ]
    },
    {
      "cell_type": "code",
      "execution_count": 74,
      "metadata": {
        "colab": {
          "base_uri": "https://localhost:8080/",
          "height": 675
        },
        "id": "IiuszZF1as78",
        "outputId": "8613c528-afee-4496-d59a-0a141002fda4"
      },
      "outputs": [
        {
          "data": {
            "image/png": "[encoded data removed]",
            "text/plain": [
              "<Figure size 800x800 with 1 Axes>"
            ]
          },
          "metadata": {},
          "output_type": "display_data"
        }
      ],
      "source": [
        "draw_sample_image(images, 'Ladder VAE Generated Images')"
      ]
    },
    {
      "cell_type": "code",
      "execution_count": null,
      "metadata": {
        "id": "5eKPt77ybEkt"
      },
      "outputs": [],
      "source": []
    }
  ],
  "metadata": {
    "accelerator": "GPU",
    "colab": {
      "gpuType": "A100",
      "machine_shape": "hm",
      "provenance": [],
      "toc_visible": true
    },
    "kernelspec": {
      "display_name": "Python 3",
      "name": "python3"
    },
    "language_info": {
      "codemirror_mode": {
        "name": "ipython",
        "version": 3
      },
      "file_extension": ".py",
      "mimetype": "text/x-python",
      "name": "python",
      "nbconvert_exporter": "python",
      "pygments_lexer": "ipython3",
      "version": "3.9.13"
    }
  },
  "nbformat": 4,
  "nbformat_minor": 0
}
